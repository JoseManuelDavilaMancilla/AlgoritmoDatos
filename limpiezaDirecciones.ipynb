{
 "cells": [
  {
   "cell_type": "code",
   "execution_count": 1,
   "metadata": {},
   "outputs": [],
   "source": [
    "import pandas as pd"
   ]
  },
  {
   "cell_type": "code",
   "execution_count": 2,
   "metadata": {},
   "outputs": [],
   "source": [
    "df = pd.read_excel(\"direcciones.xlsx\")"
   ]
  },
  {
   "cell_type": "code",
   "execution_count": 3,
   "metadata": {},
   "outputs": [
    {
     "data": {
      "text/html": [
       "<div>\n",
       "<style scoped>\n",
       "    .dataframe tbody tr th:only-of-type {\n",
       "        vertical-align: middle;\n",
       "    }\n",
       "\n",
       "    .dataframe tbody tr th {\n",
       "        vertical-align: top;\n",
       "    }\n",
       "\n",
       "    .dataframe thead th {\n",
       "        text-align: right;\n",
       "    }\n",
       "</style>\n",
       "<table border=\"1\" class=\"dataframe\">\n",
       "  <thead>\n",
       "    <tr style=\"text-align: right;\">\n",
       "      <th></th>\n",
       "      <th>Colonia</th>\n",
       "      <th>codigo postal</th>\n",
       "      <th>Calle</th>\n",
       "      <th>numero de casa</th>\n",
       "    </tr>\n",
       "  </thead>\n",
       "  <tbody>\n",
       "    <tr>\n",
       "      <th>0</th>\n",
       "      <td>FIERRO    MTY</td>\n",
       "      <td>64590</td>\n",
       "      <td>JESUS M GARZA</td>\n",
       "      <td>4026</td>\n",
       "    </tr>\n",
       "    <tr>\n",
       "      <th>1</th>\n",
       "      <td>VALLE DE SANTA LUCIA MTY</td>\n",
       "      <td>64140</td>\n",
       "      <td>LIC PEDRO ZORRI</td>\n",
       "      <td>404</td>\n",
       "    </tr>\n",
       "    <tr>\n",
       "      <th>2</th>\n",
       "      <td>JARDINES DEL PAS MTY</td>\n",
       "      <td>64900</td>\n",
       "      <td>AVE FUNDADORES</td>\n",
       "      <td>5300</td>\n",
       "    </tr>\n",
       "    <tr>\n",
       "      <th>3</th>\n",
       "      <td>CIUDAD NATURA</td>\n",
       "      <td>64989</td>\n",
       "      <td>AV ABRAHAM LIN</td>\n",
       "      <td>4001</td>\n",
       "    </tr>\n",
       "    <tr>\n",
       "      <th>4</th>\n",
       "      <td>VILLA LOS PINOS  MTY</td>\n",
       "      <td>64770</td>\n",
       "      <td>PINO SILVESTRE</td>\n",
       "      <td>2923</td>\n",
       "    </tr>\n",
       "  </tbody>\n",
       "</table>\n",
       "</div>"
      ],
      "text/plain": [
       "                    Colonia  codigo postal            Calle  numero de casa\n",
       "0             FIERRO    MTY          64590    JESUS M GARZA            4026\n",
       "1  VALLE DE SANTA LUCIA MTY          64140  LIC PEDRO ZORRI             404\n",
       "2      JARDINES DEL PAS MTY          64900   AVE FUNDADORES            5300\n",
       "3             CIUDAD NATURA          64989   AV ABRAHAM LIN            4001\n",
       "4      VILLA LOS PINOS  MTY          64770   PINO SILVESTRE            2923"
      ]
     },
     "execution_count": 3,
     "metadata": {},
     "output_type": "execute_result"
    }
   ],
   "source": [
    "df.head()"
   ]
  },
  {
   "cell_type": "code",
   "execution_count": 4,
   "metadata": {},
   "outputs": [],
   "source": [
    "df[\"nombre\"] = df[\"Calle\"].apply(str)+\" \"+df[\"numero de casa\"].apply(str)+\" Nuevo Leon \""
   ]
  },
  {
   "cell_type": "code",
   "execution_count": 5,
   "metadata": {},
   "outputs": [],
   "source": [
    "pd.set_option('display.max_columns', None)\n",
    "pd.set_option('display.max_rows', None)"
   ]
  },
  {
   "cell_type": "code",
   "execution_count": 6,
   "metadata": {},
   "outputs": [
    {
     "data": {
      "text/plain": [
       "0       JESUS M GARZA 4026 Nuevo Leon \n",
       "1      LIC PEDRO ZORRI 404 Nuevo Leon \n",
       "2      AVE FUNDADORES 5300 Nuevo Leon \n",
       "3      AV ABRAHAM LIN 4001 Nuevo Leon \n",
       "4      PINO SILVESTRE 2923 Nuevo Leon \n",
       "5     PROLONGACION JO 2004 Nuevo Leon \n",
       "6     CALLE JOSE ANTO 7319 Nuevo Leon \n",
       "7        LAGO TITICACA 209 Nuevo Leon \n",
       "8            FRAY JOSE 729 Nuevo Leon \n",
       "9      HACIENDA DEL CA 310 Nuevo Leon \n",
       "10       JUANA DE ARCO 488 Nuevo Leon \n",
       "11     SANTIAGO TAPIA 1613 Nuevo Leon \n",
       "12            PIZARRA 6509 Nuevo Leon \n",
       "13           MALAQUITA 246 Nuevo Leon \n",
       "14     ANTIGUO CAMINO 3317 Nuevo Leon \n",
       "15      PASEO NISPEROS 240 Nuevo Leon \n",
       "16     PIRAMIDES DE EG 425 Nuevo Leon \n",
       "17            MARSELLA 303 Nuevo Leon \n",
       "18               SELBY 113 Nuevo Leon \n",
       "19         CALLE NARDO 948 Nuevo Leon \n",
       "Name: nombre, dtype: object"
      ]
     },
     "execution_count": 6,
     "metadata": {},
     "output_type": "execute_result"
    }
   ],
   "source": [
    "df[\"nombre\"][0:20]"
   ]
  },
  {
   "cell_type": "code",
   "execution_count": 9,
   "metadata": {},
   "outputs": [],
   "source": [
    "df.to_excel(\"FormatoDireccionBing.xlsx\")"
   ]
  }
 ],
 "metadata": {
  "kernelspec": {
   "display_name": "JML",
   "language": "python",
   "name": "python3"
  },
  "language_info": {
   "codemirror_mode": {
    "name": "ipython",
    "version": 3
   },
   "file_extension": ".py",
   "mimetype": "text/x-python",
   "name": "python",
   "nbconvert_exporter": "python",
   "pygments_lexer": "ipython3",
   "version": "3.10.10"
  },
  "orig_nbformat": 4
 },
 "nbformat": 4,
 "nbformat_minor": 2
}
